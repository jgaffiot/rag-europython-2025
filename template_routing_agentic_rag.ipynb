{
  "nbformat": 4,
  "nbformat_minor": 0,
  "metadata": {
    "colab": {
      "provenance": [],
      "include_colab_link": true
    },
    "kernelspec": {
      "name": "python3",
      "display_name": "Python 3"
    },
    "language_info": {
      "name": "python"
    }
  },
  "cells": [
    {
      "cell_type": "markdown",
      "metadata": {
        "id": "view-in-github",
        "colab_type": "text"
      },
      "source": [
        "<a href=\"https://colab.research.google.com/github/jgaffiot/rag-europython-2025/blob/main/template_routing_agentic_rag.ipynb\" target=\"_parent\"><img src=\"https://colab.research.google.com/assets/colab-badge.svg\" alt=\"Open In Colab\"/></a>"
      ]
    },
    {
      "cell_type": "markdown",
      "source": [
        "## Agentic RAG routing using Hybrid Search"
      ],
      "metadata": {
        "id": "RNHk-6cShXKJ"
      }
    },
    {
      "cell_type": "markdown",
      "source": [
        "### Copy this notebook\n",
        "\n",
        "- Click on `File` from the Navbar.\n",
        "- Select `Save a copy in Drive`.\n",
        "- Open the new notebook in a new tab and keep it ready during the workshop session.\n"
      ],
      "metadata": {
        "id": "IgDGZiQB68b3"
      }
    },
    {
      "cell_type": "markdown",
      "source": [
        "### Installation"
      ],
      "metadata": {
        "id": "UfQxT2Hy6hf_"
      }
    },
    {
      "cell_type": "code",
      "execution_count": null,
      "metadata": {
        "id": "HukmGNe5RisZ"
      },
      "outputs": [],
      "source": [
        "!pip install llama-index\n",
        "!pip install llama-index-llms-google-genai\n",
        "!pip install opik llama-index-callbacks-opik\n",
        "!pip install llama-index-vector-stores-qdrant\n",
        "!pip install llama-index-embeddings-fastembed\n",
        "!pip install pycountry googlesearch-python\n",
        "!pip install gradio"
      ]
    },
    {
      "cell_type": "markdown",
      "source": [
        "## Setup OPIK Tracing, LLM and Embedding model credentials\n",
        "\n",
        "> OPIK API KEY\n",
        "\n",
        "- Get your OPIK API key: [Comet- OPIK for tracing and monitoring](https://www.comet.com/signup?utm_source=workshop&utm_medium=partner&utm_campaign=tarun )\n",
        "- Login via Google/GitHub and copy the API key.\n",
        "\n",
        "> Google API Key\n",
        "\n",
        "- Get your Google API key: [Gemini 2.5 Flash](https://aistudio.google.com/)\n",
        "\n"
      ],
      "metadata": {
        "id": "5TYGcJZMBzIk"
      }
    },
    {
      "cell_type": "code",
      "source": [
        "import os\n",
        "from google.colab import userdata\n",
        "\n",
        "os.environ['GOOGLE_API_KEY'] = userdata.get(\"GOOGLE_API_KEY\")\n",
        "os.environ['OPIK_API_KEY'] = userdata.get(\"OPIK_API_KEY\")\n",
        "os.environ[\"OPIK_WORKSPACE\"] = \"\"\n",
        "os.environ[\"OPIK_PROJECT_NAME\"] = \"\""
      ],
      "metadata": {
        "id": "duMedn6jKJOz"
      },
      "execution_count": null,
      "outputs": []
    },
    {
      "cell_type": "code",
      "source": [
        "import nest_asyncio\n",
        "nest_asyncio.apply()"
      ],
      "metadata": {
        "id": "gW1_dPZBRzeR"
      },
      "execution_count": null,
      "outputs": []
    },
    {
      "cell_type": "markdown",
      "source": [
        "## Download data"
      ],
      "metadata": {
        "id": "5QhOH2fQunY3"
      }
    },
    {
      "cell_type": "code",
      "source": [
        "url = \"https://ncert.nic.in/textbook/pdf/iess302.pdf\"\n",
        "book_path = \"socialism.pdf\""
      ],
      "metadata": {
        "id": "T1S8o8JDuoyj"
      },
      "execution_count": null,
      "outputs": []
    },
    {
      "cell_type": "markdown",
      "source": [
        "## Time to live code"
      ],
      "metadata": {
        "id": "hlJmpOcTM0xK"
      }
    },
    {
      "cell_type": "code",
      "source": [
        "#write your code here"
      ],
      "metadata": {
        "id": "LMajECFNM2MQ"
      },
      "execution_count": null,
      "outputs": []
    },
    {
      "cell_type": "code",
      "source": [
        "#write your code here"
      ],
      "metadata": {
        "id": "X2oqTDKsgYpO"
      },
      "execution_count": null,
      "outputs": []
    },
    {
      "cell_type": "code",
      "source": [
        "system_prompt = f\"\"\"\n",
        "You are an expert routing Agent, you first check the user query if its relevant to the knowledge base or not.\n",
        "Knowledge base is mainly about Socialism in Europe and the Russian Revolution and refer to more CONTEXT. If user query is not relevant to the context then use search_tool.\n",
        "\n",
        "Now If the user query overlaps and is not retrieved from the Knowledge_base_tool that means the information is not present in the knowledge_base.\n",
        "Then you need to trigger the search tool to get the results from web via Google Search_tool.\n",
        "\n",
        "CONTEXT:\n",
        "{some_context}\n",
        "\"\"\""
      ],
      "metadata": {
        "id": "arN9Qew1gVBb"
      },
      "execution_count": null,
      "outputs": []
    },
    {
      "cell_type": "code",
      "source": [
        "#write your code here"
      ],
      "metadata": {
        "id": "czxOPuClgXcm"
      },
      "execution_count": null,
      "outputs": []
    },
    {
      "cell_type": "markdown",
      "source": [
        "## UI"
      ],
      "metadata": {
        "id": "qnczDIjyf4js"
      }
    },
    {
      "cell_type": "code",
      "source": [
        "#write your code here"
      ],
      "metadata": {
        "id": "joegn8Vof-lA"
      },
      "execution_count": null,
      "outputs": []
    },
    {
      "cell_type": "code",
      "source": [
        "def launch_chat_app(agent):\n",
        "    with gr.Blocks() as demo:\n",
        "        gr.Markdown(\"# Socialist History Knowledge Agent\")\n",
        "\n",
        "        chatbot = gr.Chatbot()\n",
        "        msg = gr.Textbox(placeholder=\"Ask your question...\", label=\"Message\")\n",
        "\n",
        "        msg.submit(\n",
        "            lambda m, h: chat_response(m, h, agent),\n",
        "            [msg, chatbot],\n",
        "            [chatbot, msg]\n",
        "        )\n",
        "\n",
        "    demo.launch(share=True)\n",
        "    return demo\n",
        "\n",
        "launch_chat_app(agent)"
      ],
      "metadata": {
        "id": "tLGctsoqf5M4"
      },
      "execution_count": null,
      "outputs": []
    }
  ]
}